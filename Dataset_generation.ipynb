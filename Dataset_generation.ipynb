{
  "nbformat": 4,
  "nbformat_minor": 0,
  "metadata": {
    "kernelspec": {
      "display_name": "Python 3",
      "language": "python",
      "name": "python3"
    },
    "language_info": {
      "codemirror_mode": {
        "name": "ipython",
        "version": 3
      },
      "file_extension": ".py",
      "mimetype": "text/x-python",
      "name": "python",
      "nbconvert_exporter": "python",
      "pygments_lexer": "ipython3",
      "version": "3.8.5"
    },
    "colab": {
      "name": "Indian Language.ipynb",
      "provenance": [],
      "collapsed_sections": []
    }
  },
  "cells": [
    {
      "cell_type": "code",
      "metadata": {
        "id": "P9iCW_x8grsy"
      },
      "source": [
        "from google.colab import drive\n",
        "drive.mount('/content/drive')"
      ],
      "execution_count": null,
      "outputs": []
    },
    {
      "cell_type": "code",
      "metadata": {
        "id": "xfBKsf529RVK"
      },
      "source": [
        "!pip install googletrans==3.1.0a0"
      ],
      "execution_count": null,
      "outputs": []
    },
    {
      "cell_type": "code",
      "metadata": {
        "id": "cNEqrjFC9OOF"
      },
      "source": [
        "import numpy as np\n",
        "import pandas as pd\n",
        "import string\n",
        "from googletrans import Translator"
      ],
      "execution_count": null,
      "outputs": []
    },
    {
      "cell_type": "code",
      "metadata": {
        "id": "Vk7BZvx_xKx4"
      },
      "source": [
        "location = '/content/drive/MyDrive/nlp/'\n",
        "df = pd.read_csv(location + 'BBC_recasted_train.tsv', sep='\\t' ,engine = 'python')\n",
        "target = 4\n",
        "\n",
        "if(0):\n",
        "  df_out  = pd.DataFrame()\n",
        "else:\n",
        "  df_out = pd.read_csv(location + 'be.csv', sep='\\t')\n",
        "\n",
        "count  = 976\n",
        "initial = 12944\n",
        "translate = Translator()"
      ],
      "execution_count": null,
      "outputs": []
    },
    {
      "cell_type": "code",
      "metadata": {
        "id": "ExPavBj0xK0H"
      },
      "source": [
        "\n",
        "for i in range(initial, 15552):\n",
        "    if(df['Topic_Label'][i] == target):\n",
        "        count = count + 1\n",
        "        ct =  translate.translate(df['Context'][i], dest='bn')\n",
        "        ht =  translate.translate(df['Hypothesis'][i], dest='bn')\n",
        "        ct = ct.text\n",
        "        ht = ht.text\n",
        "        print(i, '  ', count, '   ' ,ct)\n",
        "        if(ct == df['Context'][i] or ht == df['Hypothesis'][i]):\n",
        "            print(' Failed at --  ', i, '  ', count)\n",
        "            break\n",
        "        tdict = {'Context':ct, 'Hypothesis':ht,\n",
        "                'Entailment_Label':df['Entailment_Label'][i],\n",
        "                'Topic_Label':df['Topic_Label'][i]}\n",
        "        df_out = df_out.append(tdict, ignore_index=True)\n",
        "        df_out.to_csv(location + 'be.csv', sep='\\t')\n"
      ],
      "execution_count": null,
      "outputs": []
    },
    {
      "cell_type": "code",
      "metadata": {
        "id": "VSc5lk4AG2sO"
      },
      "source": [
        "df= pd.read_csv(location + 'BBC_recasted_train.tsv', sep='\\t' ,engine = 'python')\n",
        "df=df[df['Topic_Label']==3]\n",
        "print(df.shape)"
      ],
      "execution_count": null,
      "outputs": []
    }
  ]
}